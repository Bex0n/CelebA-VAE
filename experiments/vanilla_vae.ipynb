{
 "cells": [
  {
   "cell_type": "markdown",
   "id": "4bc873fe-1747-4f9e-9252-1d4d1f268920",
   "metadata": {},
   "source": [
    "# Variational autoencoder - CelebA"
   ]
  },
  {
   "cell_type": "code",
   "execution_count": 1,
   "id": "81d181bd-c51a-4995-bda9-695fcffc9a34",
   "metadata": {
    "tags": []
   },
   "outputs": [
    {
     "name": "stdout",
     "output_type": "stream",
     "text": [
      "Defaulting to user installation because normal site-packages is not writeable\n",
      "Requirement already satisfied: pytorch-lightning>=1.5.6 in /home/bexon/.local/lib/python3.10/site-packages (from -r ../requirements.txt (line 1)) (2.1.2)\n",
      "Requirement already satisfied: PyYAML>=6.0 in /home/bexon/.local/lib/python3.10/site-packages (from -r ../requirements.txt (line 2)) (6.0.1)\n",
      "Requirement already satisfied: tensorboard>=2.2.0 in /home/bexon/.local/lib/python3.10/site-packages (from -r ../requirements.txt (line 3)) (2.15.1)\n",
      "Requirement already satisfied: torch>=1.6.1 in /home/bexon/.local/lib/python3.10/site-packages (from -r ../requirements.txt (line 4)) (2.1.1)\n",
      "Requirement already satisfied: torchinfo>=1.8.0 in /home/bexon/.local/lib/python3.10/site-packages (from -r ../requirements.txt (line 5)) (1.8.0)\n",
      "Requirement already satisfied: torchsummary>=1.5.1 in /home/bexon/.local/lib/python3.10/site-packages (from -r ../requirements.txt (line 6)) (1.5.1)\n",
      "Requirement already satisfied: torchvision>=0.10.1 in /home/bexon/.local/lib/python3.10/site-packages (from -r ../requirements.txt (line 7)) (0.16.1)\n",
      "Requirement already satisfied: ipywidgets>=8.1.1 in /home/bexon/.local/lib/python3.10/site-packages (from -r ../requirements.txt (line 8)) (8.1.1)\n",
      "Requirement already satisfied: typing-extensions>=4.0.0 in /home/bexon/.local/lib/python3.10/site-packages (from pytorch-lightning>=1.5.6->-r ../requirements.txt (line 1)) (4.8.0)\n",
      "Requirement already satisfied: lightning-utilities>=0.8.0 in /home/bexon/.local/lib/python3.10/site-packages (from pytorch-lightning>=1.5.6->-r ../requirements.txt (line 1)) (0.10.0)\n",
      "Requirement already satisfied: fsspec[http]>2021.06.0 in /home/bexon/.local/lib/python3.10/site-packages (from pytorch-lightning>=1.5.6->-r ../requirements.txt (line 1)) (2023.10.0)\n",
      "Requirement already satisfied: torchmetrics>=0.7.0 in /home/bexon/.local/lib/python3.10/site-packages (from pytorch-lightning>=1.5.6->-r ../requirements.txt (line 1)) (1.2.0)\n",
      "Requirement already satisfied: packaging>=20.0 in /usr/lib/python3/dist-packages (from pytorch-lightning>=1.5.6->-r ../requirements.txt (line 1)) (21.3)\n",
      "Requirement already satisfied: tqdm>=4.57.0 in /home/bexon/.local/lib/python3.10/site-packages (from pytorch-lightning>=1.5.6->-r ../requirements.txt (line 1)) (4.66.1)\n",
      "Requirement already satisfied: numpy>=1.17.2 in /usr/lib/python3/dist-packages (from pytorch-lightning>=1.5.6->-r ../requirements.txt (line 1)) (1.21.5)\n",
      "Requirement already satisfied: werkzeug>=1.0.1 in /home/bexon/.local/lib/python3.10/site-packages (from tensorboard>=2.2.0->-r ../requirements.txt (line 3)) (3.0.1)\n",
      "Requirement already satisfied: tensorboard-data-server<0.8.0,>=0.7.0 in /home/bexon/.local/lib/python3.10/site-packages (from tensorboard>=2.2.0->-r ../requirements.txt (line 3)) (0.7.2)\n",
      "Requirement already satisfied: markdown>=2.6.8 in /usr/lib/python3/dist-packages (from tensorboard>=2.2.0->-r ../requirements.txt (line 3)) (3.3.6)\n",
      "Requirement already satisfied: requests<3,>=2.21.0 in /usr/lib/python3/dist-packages (from tensorboard>=2.2.0->-r ../requirements.txt (line 3)) (2.25.1)\n",
      "Requirement already satisfied: six>1.9 in /usr/lib/python3/dist-packages (from tensorboard>=2.2.0->-r ../requirements.txt (line 3)) (1.16.0)\n",
      "Requirement already satisfied: google-auth<3,>=1.6.3 in /home/bexon/.local/lib/python3.10/site-packages (from tensorboard>=2.2.0->-r ../requirements.txt (line 3)) (2.23.4)\n",
      "Requirement already satisfied: grpcio>=1.48.2 in /home/bexon/.local/lib/python3.10/site-packages (from tensorboard>=2.2.0->-r ../requirements.txt (line 3)) (1.59.3)\n",
      "Requirement already satisfied: google-auth-oauthlib<2,>=0.5 in /home/bexon/.local/lib/python3.10/site-packages (from tensorboard>=2.2.0->-r ../requirements.txt (line 3)) (1.1.0)\n",
      "Requirement already satisfied: protobuf<4.24,>=3.19.6 in /home/bexon/.local/lib/python3.10/site-packages (from tensorboard>=2.2.0->-r ../requirements.txt (line 3)) (4.23.4)\n",
      "Requirement already satisfied: setuptools>=41.0.0 in /usr/lib/python3/dist-packages (from tensorboard>=2.2.0->-r ../requirements.txt (line 3)) (59.6.0)\n",
      "Requirement already satisfied: absl-py>=0.4 in /home/bexon/.local/lib/python3.10/site-packages (from tensorboard>=2.2.0->-r ../requirements.txt (line 3)) (2.0.0)\n",
      "Requirement already satisfied: networkx in /home/bexon/.local/lib/python3.10/site-packages (from torch>=1.6.1->-r ../requirements.txt (line 4)) (3.2.1)\n",
      "Requirement already satisfied: nvidia-cuda-nvrtc-cu12==12.1.105 in /home/bexon/.local/lib/python3.10/site-packages (from torch>=1.6.1->-r ../requirements.txt (line 4)) (12.1.105)\n",
      "Requirement already satisfied: nvidia-cuda-runtime-cu12==12.1.105 in /home/bexon/.local/lib/python3.10/site-packages (from torch>=1.6.1->-r ../requirements.txt (line 4)) (12.1.105)\n",
      "Requirement already satisfied: nvidia-cublas-cu12==12.1.3.1 in /home/bexon/.local/lib/python3.10/site-packages (from torch>=1.6.1->-r ../requirements.txt (line 4)) (12.1.3.1)\n",
      "Requirement already satisfied: sympy in /usr/lib/python3/dist-packages (from torch>=1.6.1->-r ../requirements.txt (line 4)) (1.9)\n",
      "Requirement already satisfied: nvidia-cuda-cupti-cu12==12.1.105 in /home/bexon/.local/lib/python3.10/site-packages (from torch>=1.6.1->-r ../requirements.txt (line 4)) (12.1.105)\n",
      "Requirement already satisfied: nvidia-cufft-cu12==11.0.2.54 in /home/bexon/.local/lib/python3.10/site-packages (from torch>=1.6.1->-r ../requirements.txt (line 4)) (11.0.2.54)\n",
      "Requirement already satisfied: nvidia-curand-cu12==10.3.2.106 in /home/bexon/.local/lib/python3.10/site-packages (from torch>=1.6.1->-r ../requirements.txt (line 4)) (10.3.2.106)\n",
      "Requirement already satisfied: nvidia-cusolver-cu12==11.4.5.107 in /home/bexon/.local/lib/python3.10/site-packages (from torch>=1.6.1->-r ../requirements.txt (line 4)) (11.4.5.107)\n",
      "Requirement already satisfied: nvidia-cusparse-cu12==12.1.0.106 in /home/bexon/.local/lib/python3.10/site-packages (from torch>=1.6.1->-r ../requirements.txt (line 4)) (12.1.0.106)\n",
      "Requirement already satisfied: nvidia-nccl-cu12==2.18.1 in /home/bexon/.local/lib/python3.10/site-packages (from torch>=1.6.1->-r ../requirements.txt (line 4)) (2.18.1)\n",
      "Requirement already satisfied: filelock in /usr/lib/python3/dist-packages (from torch>=1.6.1->-r ../requirements.txt (line 4)) (3.6.0)\n",
      "Requirement already satisfied: nvidia-nvtx-cu12==12.1.105 in /home/bexon/.local/lib/python3.10/site-packages (from torch>=1.6.1->-r ../requirements.txt (line 4)) (12.1.105)\n",
      "Requirement already satisfied: jinja2 in /usr/lib/python3/dist-packages (from torch>=1.6.1->-r ../requirements.txt (line 4)) (3.0.3)\n",
      "Requirement already satisfied: triton==2.1.0 in /home/bexon/.local/lib/python3.10/site-packages (from torch>=1.6.1->-r ../requirements.txt (line 4)) (2.1.0)\n",
      "Requirement already satisfied: nvidia-cudnn-cu12==8.9.2.26 in /home/bexon/.local/lib/python3.10/site-packages (from torch>=1.6.1->-r ../requirements.txt (line 4)) (8.9.2.26)\n",
      "Requirement already satisfied: nvidia-nvjitlink-cu12 in /home/bexon/.local/lib/python3.10/site-packages (from nvidia-cusolver-cu12==11.4.5.107->torch>=1.6.1->-r ../requirements.txt (line 4)) (12.3.101)\n",
      "Requirement already satisfied: pillow!=8.3.*,>=5.3.0 in /usr/lib/python3/dist-packages (from torchvision>=0.10.1->-r ../requirements.txt (line 7)) (9.0.1)\n",
      "Requirement already satisfied: ipython>=6.1.0 in /usr/lib/python3/dist-packages (from ipywidgets>=8.1.1->-r ../requirements.txt (line 8)) (7.31.1)\n",
      "Requirement already satisfied: jupyterlab-widgets~=3.0.9 in /home/bexon/.local/lib/python3.10/site-packages (from ipywidgets>=8.1.1->-r ../requirements.txt (line 8)) (3.0.9)\n",
      "Requirement already satisfied: comm>=0.1.3 in /home/bexon/.local/lib/python3.10/site-packages (from ipywidgets>=8.1.1->-r ../requirements.txt (line 8)) (0.2.0)\n",
      "Requirement already satisfied: widgetsnbextension~=4.0.9 in /home/bexon/.local/lib/python3.10/site-packages (from ipywidgets>=8.1.1->-r ../requirements.txt (line 8)) (4.0.9)\n",
      "Requirement already satisfied: traitlets>=4.3.1 in /usr/lib/python3/dist-packages (from ipywidgets>=8.1.1->-r ../requirements.txt (line 8)) (5.1.1)\n",
      "Requirement already satisfied: aiohttp!=4.0.0a0,!=4.0.0a1 in /home/bexon/.local/lib/python3.10/site-packages (from fsspec[http]>2021.06.0->pytorch-lightning>=1.5.6->-r ../requirements.txt (line 1)) (3.9.0)\n",
      "Requirement already satisfied: rsa<5,>=3.1.4 in /home/bexon/.local/lib/python3.10/site-packages (from google-auth<3,>=1.6.3->tensorboard>=2.2.0->-r ../requirements.txt (line 3)) (4.9)\n",
      "Requirement already satisfied: cachetools<6.0,>=2.0.0 in /home/bexon/.local/lib/python3.10/site-packages (from google-auth<3,>=1.6.3->tensorboard>=2.2.0->-r ../requirements.txt (line 3)) (5.3.2)\n",
      "Requirement already satisfied: pyasn1-modules>=0.2.1 in /home/bexon/.local/lib/python3.10/site-packages (from google-auth<3,>=1.6.3->tensorboard>=2.2.0->-r ../requirements.txt (line 3)) (0.3.0)\n",
      "Requirement already satisfied: requests-oauthlib>=0.7.0 in /home/bexon/.local/lib/python3.10/site-packages (from google-auth-oauthlib<2,>=0.5->tensorboard>=2.2.0->-r ../requirements.txt (line 3)) (1.3.1)\n"
     ]
    },
    {
     "name": "stdout",
     "output_type": "stream",
     "text": [
      "Requirement already satisfied: MarkupSafe>=2.1.1 in /home/bexon/.local/lib/python3.10/site-packages (from werkzeug>=1.0.1->tensorboard>=2.2.0->-r ../requirements.txt (line 3)) (2.1.3)\n",
      "Requirement already satisfied: yarl<2.0,>=1.0 in /home/bexon/.local/lib/python3.10/site-packages (from aiohttp!=4.0.0a0,!=4.0.0a1->fsspec[http]>2021.06.0->pytorch-lightning>=1.5.6->-r ../requirements.txt (line 1)) (1.9.3)\n",
      "Requirement already satisfied: async-timeout<5.0,>=4.0 in /home/bexon/.local/lib/python3.10/site-packages (from aiohttp!=4.0.0a0,!=4.0.0a1->fsspec[http]>2021.06.0->pytorch-lightning>=1.5.6->-r ../requirements.txt (line 1)) (4.0.3)\n",
      "Requirement already satisfied: multidict<7.0,>=4.5 in /home/bexon/.local/lib/python3.10/site-packages (from aiohttp!=4.0.0a0,!=4.0.0a1->fsspec[http]>2021.06.0->pytorch-lightning>=1.5.6->-r ../requirements.txt (line 1)) (6.0.4)\n",
      "Requirement already satisfied: frozenlist>=1.1.1 in /home/bexon/.local/lib/python3.10/site-packages (from aiohttp!=4.0.0a0,!=4.0.0a1->fsspec[http]>2021.06.0->pytorch-lightning>=1.5.6->-r ../requirements.txt (line 1)) (1.4.0)\n",
      "Requirement already satisfied: attrs>=17.3.0 in /usr/lib/python3/dist-packages (from aiohttp!=4.0.0a0,!=4.0.0a1->fsspec[http]>2021.06.0->pytorch-lightning>=1.5.6->-r ../requirements.txt (line 1)) (21.2.0)\n",
      "Requirement already satisfied: aiosignal>=1.1.2 in /home/bexon/.local/lib/python3.10/site-packages (from aiohttp!=4.0.0a0,!=4.0.0a1->fsspec[http]>2021.06.0->pytorch-lightning>=1.5.6->-r ../requirements.txt (line 1)) (1.3.1)\n",
      "Requirement already satisfied: pyasn1<0.6.0,>=0.4.6 in /home/bexon/.local/lib/python3.10/site-packages (from pyasn1-modules>=0.2.1->google-auth<3,>=1.6.3->tensorboard>=2.2.0->-r ../requirements.txt (line 3)) (0.5.1)\n",
      "Requirement already satisfied: oauthlib>=3.0.0 in /usr/lib/python3/dist-packages (from requests-oauthlib>=0.7.0->google-auth-oauthlib<2,>=0.5->tensorboard>=2.2.0->-r ../requirements.txt (line 3)) (3.2.0)\n",
      "Requirement already satisfied: idna>=2.0 in /usr/lib/python3/dist-packages (from yarl<2.0,>=1.0->aiohttp!=4.0.0a0,!=4.0.0a1->fsspec[http]>2021.06.0->pytorch-lightning>=1.5.6->-r ../requirements.txt (line 1)) (3.3)\n",
      "Note: you may need to restart the kernel to use updated packages.\n"
     ]
    }
   ],
   "source": [
    "%pip install -r ../requirements.txt\n",
    "\n",
    "import sys\n",
    "import matplotlib.pyplot as plt\n",
    "import numpy as np\n",
    "import pandas as pd\n",
    "\n",
    "import torch\n",
    "import torch.nn as nn\n",
    "import torch.nn.functional as F\n",
    "from utils import (\n",
    "    display_random,\n",
    "    display_img\n",
    ")\n",
    "from pytorch_lightning import Trainer\n",
    "from pytorch_lightning.loggers import TensorBoardLogger\n",
    "\n",
    "sys.path.insert(0, '..')\n",
    "from dataset import VAEDataset\n",
    "from models import (\n",
    "    Encoder,\n",
    "    Decoder,\n",
    "    VanillaVAE\n",
    ")"
   ]
  },
  {
   "cell_type": "markdown",
   "id": "82a7f689-5e1e-4e2d-9df3-4b38c7f6e1f5",
   "metadata": {},
   "source": [
    "## 0. Parameters"
   ]
  },
  {
   "cell_type": "code",
   "execution_count": 2,
   "id": "99f61571-c04c-47d1-9d71-82520e39cd81",
   "metadata": {},
   "outputs": [],
   "source": [
    "IMAGE_SIZE = 128\n",
    "CHANNELS = 3\n",
    "BATCH_SIZE = 128\n",
    "NUM_FEATURES = 128\n",
    "Z_DIM = 512\n",
    "EPOCHS = 10\n",
    "LR = 1e-4\n",
    "KL_WEIGHT = 1e-4\n",
    "LOAD_MODEL = True"
   ]
  },
  {
   "cell_type": "markdown",
   "id": "e0082b9b-c9eb-4466-aacc-696d75806e2b",
   "metadata": {},
   "source": [
    "## 1. Prepare the data"
   ]
  },
  {
   "cell_type": "code",
   "execution_count": 3,
   "id": "796a0adb",
   "metadata": {},
   "outputs": [],
   "source": [
    "data_path = '../celeba/'\n",
    "\n",
    "data = VAEDataset(data_path=data_path,\n",
    "                  batch_size=BATCH_SIZE,\n",
    "                  num_workers=16,\n",
    "                  pin_memory=True)\n",
    "# Uncomment if you haven't downloaded the dataset.\n",
    "# data.prepare_data()\n",
    "data.setup()"
   ]
  },
  {
   "cell_type": "markdown",
   "id": "90cf781a-b63e-423f-8067-70326d4133d1",
   "metadata": {},
   "source": [
    "## 2. Build VAE"
   ]
  },
  {
   "cell_type": "code",
   "execution_count": 4,
   "id": "0d459e71",
   "metadata": {},
   "outputs": [
    {
     "name": "stderr",
     "output_type": "stream",
     "text": [
      "/home/bexon/.local/lib/python3.10/site-packages/pytorch_lightning/utilities/parsing.py:198: Attribute 'encoder' is an instance of `nn.Module` and is already saved during checkpointing. It is recommended to ignore them using `self.save_hyperparameters(ignore=['encoder'])`.\n",
      "/home/bexon/.local/lib/python3.10/site-packages/pytorch_lightning/utilities/parsing.py:198: Attribute 'decoder' is an instance of `nn.Module` and is already saved during checkpointing. It is recommended to ignore them using `self.save_hyperparameters(ignore=['decoder'])`.\n"
     ]
    }
   ],
   "source": [
    "encoder = Encoder(in_channels=3,\n",
    "                  z_dim=512)\n",
    "decoder = Decoder(z_dim=512)\n",
    "vanilla_vae = VanillaVAE(lr=LR,\n",
    "                         beta=KL_WEIGHT,\n",
    "                         encoder=encoder,\n",
    "                         decoder=decoder)"
   ]
  },
  {
   "cell_type": "markdown",
   "id": "d2ddac5e-a71d-4dc0-944c-04f4a3e1fa57",
   "metadata": {},
   "source": [
    "## 3. Train VAE"
   ]
  },
  {
   "cell_type": "code",
   "execution_count": 8,
   "id": "14bbe284",
   "metadata": {},
   "outputs": [],
   "source": [
    "if LOAD_MODEL:\n",
    "    vae = VanillaVAE.load_from_checkpoint(\"../logs/VanillaVAE/version_1/checkpoints/epoch=4-step=6360.ckpt\",\n",
    "                                          lr=1e-4,\n",
    "                                          beta=1e-4,\n",
    "                                          encoder=Encoder(in_channels=3, z_dim=512),\n",
    "                                          decoder=Decoder(z_dim=512))\n",
    "else:\n",
    "    tb_logger = TensorBoardLogger(save_dir='logs/', name='Vanilla VAE')\n",
    "    trainer = Trainer(logger=tb_logger,\n",
    "                      accelerator='auto',\n",
    "                      devices=1,\n",
    "                      max_epochs=EPOCHS)\n",
    "    trainer.fit(model=vanilla_vae, datamodule=data)"
   ]
  },
  {
   "cell_type": "markdown",
   "id": "e978c5c0-55d1-4b73-aa12-1e726b030a88",
   "metadata": {},
   "source": [
    "## 4. Tests"
   ]
  },
  {
   "cell_type": "code",
   "execution_count": null,
   "id": "73249001",
   "metadata": {},
   "outputs": [],
   "source": [
    "vae.decoder"
   ]
  }
 ],
 "metadata": {
  "kernelspec": {
   "display_name": "local-venv",
   "language": "python",
   "name": "local-venv"
  },
  "language_info": {
   "codemirror_mode": {
    "name": "ipython",
    "version": 3
   },
   "file_extension": ".py",
   "mimetype": "text/x-python",
   "name": "python",
   "nbconvert_exporter": "python",
   "pygments_lexer": "ipython3",
   "version": "3.10.12"
  }
 },
 "nbformat": 4,
 "nbformat_minor": 5
}
